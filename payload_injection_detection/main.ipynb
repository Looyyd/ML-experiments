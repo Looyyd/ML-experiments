{
 "cells": [
  {
   "cell_type": "markdown",
   "source": [
    "# Load datasets"
   ],
   "metadata": {
    "collapsed": false
   }
  },
  {
   "cell_type": "code",
   "execution_count": 147,
   "outputs": [],
   "source": [
    "import os\n",
    "from sklearn.feature_extraction.text import TfidfVectorizer\n",
    "from sklearn.model_selection import train_test_split\n",
    "from keras.models import Sequential\n",
    "from keras.layers import Dense\n",
    "\n"
   ],
   "metadata": {
    "collapsed": false,
    "ExecuteTime": {
     "end_time": "2023-05-27T16:20:10.047001Z",
     "start_time": "2023-05-27T16:20:10.032355Z"
    }
   }
  },
  {
   "cell_type": "code",
   "execution_count": 148,
   "outputs": [],
   "source": [
    "import pandas as pd\n",
    "from sklearn.utils import shuffle"
   ],
   "metadata": {
    "collapsed": false,
    "ExecuteTime": {
     "end_time": "2023-05-27T16:20:10.047186Z",
     "start_time": "2023-05-27T16:20:10.033791Z"
    }
   }
  },
  {
   "cell_type": "code",
   "execution_count": 149,
   "outputs": [],
   "source": [
    "import numpy as np\n",
    "import tensorflow as tf"
   ],
   "metadata": {
    "collapsed": false,
    "ExecuteTime": {
     "end_time": "2023-05-27T16:20:10.047240Z",
     "start_time": "2023-05-27T16:20:10.035368Z"
    }
   }
  },
  {
   "cell_type": "code",
   "execution_count": 150,
   "outputs": [],
   "source": [
    "def load_datasets(non_malicious_folder, malicious_folder):\n",
    "    data = []\n",
    "    labels = []\n",
    "\n",
    "    # Load non-malicious files\n",
    "    for filename in os.listdir(non_malicious_folder):\n",
    "        if filename.endswith('.txt'):\n",
    "            with open(os.path.join(non_malicious_folder, filename), 'r', encoding='utf-8', errors='ignore') as f:\n",
    "                # read line by line\n",
    "                for line in f:\n",
    "                    data.append(line)\n",
    "                    labels.append(0)  # Mark as non-malicious\n",
    "\n",
    "    # Load malicious files\n",
    "    for filename in os.listdir(malicious_folder):\n",
    "        if filename.endswith('.txt'):\n",
    "            with open(os.path.join(malicious_folder, filename), 'r', encoding='utf-8', errors='ignore') as f:\n",
    "                # read line by line\n",
    "                for line in f:\n",
    "                    data.append(line)\n",
    "                    labels.append(1)  # Mark as malicious\n",
    "\n",
    "\n",
    "    return data, labels\n",
    "\n",
    "# Load the datasets\n",
    "non_malicious_folder = 'non_payload_datasets'\n",
    "malicious_folder = 'payload_datasets'\n",
    "data, labels = load_datasets(non_malicious_folder, malicious_folder)\n"
   ],
   "metadata": {
    "collapsed": false,
    "ExecuteTime": {
     "end_time": "2023-05-27T16:20:10.065977Z",
     "start_time": "2023-05-27T16:20:10.041033Z"
    }
   }
  },
  {
   "cell_type": "code",
   "execution_count": 151,
   "outputs": [
    {
     "name": "stdout",
     "output_type": "stream",
     "text": [
      "Total number of samples: 18435\n",
      "Number of malicious samples: 12861\n",
      "Number of non-malicious samples: 5574\n",
      "Sample message: A cute thought for friendship: \\Its not necessary to share every secret wi<style>@keyframes x{from {left:0;}to {left: 1000px;}}:target {animation:10s ease-in-out 0s 1 x;}</style><abbr id=x style=\"position:absolute;\" onanimationcancel=\"alert(1)\"></abbr>th ur close Frnd\n",
      "\n",
      "Label: Malicious\n",
      "Sample message: <applet onbeforecut=\"alert(1)\" contenteditable>test</applet>\n",
      "\n",
      "Label: Malicious\n",
      "Sample message: Uh, heads up we don't have THAT much left\n",
      "\n",
      "Label: Non-malicious\n",
      "Sample message: ../../../../apache/logs/access.log\n",
      "\n",
      "Label: Malicious\n",
      "Sample message: <style>:target {color: red;}</style><var id=x style=\"transition:color 10s\" ontransitioncancel=alert(1)></var>\n",
      "\n",
      "Label: Malicious\n"
     ]
    }
   ],
   "source": [
    "# Convert the data and labels to a DataFrame for easier manipulation\n",
    "df = pd.DataFrame({\n",
    "    'data': data,\n",
    "    'labels': labels\n",
    "})\n",
    "\n",
    "# Shuffle the DataFrame\n",
    "df = shuffle(df)\n",
    "\n",
    "# Convert back to lists\n",
    "data = df['data'].tolist()\n",
    "labels = df['labels'].tolist()\n",
    "\n",
    "# Now you can proceed to vectorization and splitting the dataset...\n",
    "\n",
    "# For understanding the data, you can print out some statistics\n",
    "print(\"Total number of samples:\", len(data))\n",
    "print(\"Number of malicious samples:\", sum(labels))\n",
    "print(\"Number of non-malicious samples:\", len(labels) - sum(labels))\n",
    "\n",
    "# You can also print out a few example messages\n",
    "for i in range(5):\n",
    "    print(\"Sample message:\", data[i])\n",
    "    print(\"Label:\", \"Malicious\" if labels[i] == 1 else \"Non-malicious\")\n"
   ],
   "metadata": {
    "collapsed": false,
    "ExecuteTime": {
     "end_time": "2023-05-27T16:20:10.066241Z",
     "start_time": "2023-05-27T16:20:10.055254Z"
    }
   }
  },
  {
   "cell_type": "code",
   "execution_count": 152,
   "outputs": [],
   "source": [
    "# Create the TF-IDF vectorizer\n",
    "vectorizer = TfidfVectorizer()\n",
    "\n",
    "# Apply the vectorizer to the text data\n",
    "X = vectorizer.fit_transform(data)\n",
    "\n",
    "# Now X is a matrix where each row corresponds to a document and each column is a word.\n",
    "# The value in each cell is the TF-IDF score of that word in that document.\n"
   ],
   "metadata": {
    "collapsed": false,
    "ExecuteTime": {
     "end_time": "2023-05-27T16:20:10.188011Z",
     "start_time": "2023-05-27T16:20:10.077973Z"
    }
   }
  },
  {
   "cell_type": "code",
   "execution_count": 153,
   "outputs": [],
   "source": [
    "X = vectorizer.fit_transform(data).toarray()  # Convert sparse matrix to dense array\n",
    "\n",
    "# Split the dataset into training set and temporary set with a 60-40 split\n",
    "X_temp, X_test, y_temp, y_test = train_test_split(X, labels, test_size=0.2, random_state=42)\n",
    "\n",
    "# Then split the temporary set into validation and test sets with a 50-50 split\n",
    "X_train, X_val, y_train, y_val = train_test_split(X_temp, y_temp, test_size=0.25, random_state=42)\n",
    "\n",
    "# Now we have a 60-20-20 split for training, validation, and testing\n"
   ],
   "metadata": {
    "collapsed": false,
    "ExecuteTime": {
     "end_time": "2023-05-27T16:20:11.628647Z",
     "start_time": "2023-05-27T16:20:10.200225Z"
    }
   }
  },
  {
   "cell_type": "code",
   "execution_count": 179,
   "outputs": [
    {
     "name": "stdout",
     "output_type": "stream",
     "text": [
      "Epoch 1/20\n",
      "1107/1107 [==============================] - 2s 1ms/step - loss: 0.1860 - accuracy: 0.9228 - val_loss: 0.1213 - val_accuracy: 0.9577\n",
      "Epoch 2/20\n",
      "1107/1107 [==============================] - 1s 1ms/step - loss: 0.0546 - accuracy: 0.9817 - val_loss: 0.1337 - val_accuracy: 0.9547\n",
      "Epoch 3/20\n",
      "1107/1107 [==============================] - 1s 1ms/step - loss: 0.0279 - accuracy: 0.9888 - val_loss: 0.1384 - val_accuracy: 0.9552\n",
      "Epoch 4/20\n",
      "1107/1107 [==============================] - 1s 1ms/step - loss: 0.0174 - accuracy: 0.9921 - val_loss: 0.1577 - val_accuracy: 0.9574\n",
      "Epoch 5/20\n",
      "1107/1107 [==============================] - 1s 985us/step - loss: 0.0139 - accuracy: 0.9938 - val_loss: 0.1552 - val_accuracy: 0.9607\n",
      "Epoch 6/20\n",
      "1107/1107 [==============================] - 1s 992us/step - loss: 0.0113 - accuracy: 0.9946 - val_loss: 0.1845 - val_accuracy: 0.9577\n",
      "Epoch 7/20\n",
      "1107/1107 [==============================] - 1s 990us/step - loss: 0.0081 - accuracy: 0.9967 - val_loss: 0.1834 - val_accuracy: 0.9607\n",
      "Epoch 8/20\n",
      "1107/1107 [==============================] - 1s 1ms/step - loss: 0.0099 - accuracy: 0.9958 - val_loss: 0.1753 - val_accuracy: 0.9615\n",
      "Epoch 9/20\n",
      "1107/1107 [==============================] - 1s 988us/step - loss: 0.0080 - accuracy: 0.9964 - val_loss: 0.1935 - val_accuracy: 0.9599\n",
      "Epoch 10/20\n",
      "1107/1107 [==============================] - 1s 991us/step - loss: 0.0062 - accuracy: 0.9967 - val_loss: 0.2088 - val_accuracy: 0.9585\n",
      "Epoch 11/20\n",
      "1107/1107 [==============================] - 1s 1ms/step - loss: 0.0072 - accuracy: 0.9971 - val_loss: 0.2032 - val_accuracy: 0.9612\n",
      "Epoch 12/20\n",
      "1107/1107 [==============================] - 1s 982us/step - loss: 0.0048 - accuracy: 0.9975 - val_loss: 0.2591 - val_accuracy: 0.9599\n",
      "Epoch 13/20\n",
      "1107/1107 [==============================] - 1s 995us/step - loss: 0.0046 - accuracy: 0.9978 - val_loss: 0.2329 - val_accuracy: 0.9612\n",
      "Epoch 14/20\n",
      "1107/1107 [==============================] - 1s 992us/step - loss: 0.0040 - accuracy: 0.9979 - val_loss: 0.2475 - val_accuracy: 0.9547\n",
      "Epoch 15/20\n",
      "1107/1107 [==============================] - 1s 1ms/step - loss: 0.0059 - accuracy: 0.9975 - val_loss: 0.2433 - val_accuracy: 0.9574\n",
      "Epoch 16/20\n",
      "1107/1107 [==============================] - 1s 997us/step - loss: 0.0042 - accuracy: 0.9978 - val_loss: 0.2759 - val_accuracy: 0.9609\n",
      "Epoch 17/20\n",
      "1107/1107 [==============================] - 1s 1ms/step - loss: 0.0056 - accuracy: 0.9978 - val_loss: 0.2474 - val_accuracy: 0.9582\n",
      "Epoch 18/20\n",
      "1107/1107 [==============================] - 1s 1ms/step - loss: 0.0029 - accuracy: 0.9985 - val_loss: 0.2807 - val_accuracy: 0.9523\n",
      "Epoch 19/20\n",
      "1107/1107 [==============================] - 1s 1ms/step - loss: 0.0031 - accuracy: 0.9983 - val_loss: 0.2638 - val_accuracy: 0.9552\n",
      "Epoch 20/20\n",
      "1107/1107 [==============================] - 1s 1ms/step - loss: 0.0028 - accuracy: 0.9984 - val_loss: 0.2872 - val_accuracy: 0.9539\n"
     ]
    },
    {
     "data": {
      "text/plain": "<keras.src.callbacks.History at 0x371964690>"
     },
     "execution_count": 179,
     "metadata": {},
     "output_type": "execute_result"
    }
   ],
   "source": [
    "# Define the model\n",
    "model = Sequential()\n",
    "model.add(Dense(32, input_dim=X_train.shape[1], activation='relu'))\n",
    "model.add(Dense(16, activation='relu'))\n",
    "model.add(Dense(8, activation='relu'))\n",
    "model.add(Dense(1, activation='sigmoid'))\n",
    "\n",
    "# Compile the model\n",
    "model.compile(loss='binary_crossentropy', optimizer='adam', metrics=['accuracy'])\n",
    "\n",
    "# Convert labels to numpy arrays\n",
    "y_train = np.array(y_train)\n",
    "y_val = np.array(y_val)\n",
    "y_test = np.array(y_test)\n",
    "\n",
    "# Train the model\n",
    "model.fit(X_train, y_train, epochs=20, batch_size=10, validation_data=(X_val, y_val))\n"
   ],
   "metadata": {
    "collapsed": false,
    "ExecuteTime": {
     "end_time": "2023-05-27T16:29:52.091455Z",
     "start_time": "2023-05-27T16:29:28.873615Z"
    }
   }
  },
  {
   "cell_type": "code",
   "execution_count": 180,
   "outputs": [
    {
     "name": "stdout",
     "output_type": "stream",
     "text": [
      "Model: \"sequential_21\"\n",
      "_________________________________________________________________\n",
      " Layer (type)                Output Shape              Param #   \n",
      "=================================================================\n",
      " dense_33 (Dense)            (None, 32)                362848    \n",
      "                                                                 \n",
      " dense_34 (Dense)            (None, 16)                528       \n",
      "                                                                 \n",
      " dense_35 (Dense)            (None, 8)                 136       \n",
      "                                                                 \n",
      " dense_36 (Dense)            (None, 1)                 9         \n",
      "                                                                 \n",
      "=================================================================\n",
      "Total params: 363521 (1.39 MB)\n",
      "Trainable params: 363521 (1.39 MB)\n",
      "Non-trainable params: 0 (0.00 Byte)\n",
      "_________________________________________________________________\n",
      "None\n"
     ]
    }
   ],
   "source": [
    "print(model.summary())\n"
   ],
   "metadata": {
    "collapsed": false,
    "ExecuteTime": {
     "end_time": "2023-05-27T16:31:09.676904Z",
     "start_time": "2023-05-27T16:31:09.666366Z"
    }
   }
  },
  {
   "cell_type": "code",
   "execution_count": 181,
   "outputs": [
    {
     "name": "stdout",
     "output_type": "stream",
     "text": [
      "116/116 [==============================] - 0s 556us/step - loss: 0.2721 - accuracy: 0.9542\n",
      "\n",
      "accuracy: 95.42%\n"
     ]
    }
   ],
   "source": [
    "# evaluate the model\n",
    "scores = model.evaluate(X_test, y_test)\n",
    "print(\"\\n%s: %.2f%%\" % (model.metrics_names[1], scores[1]*100))\n"
   ],
   "metadata": {
    "collapsed": false,
    "ExecuteTime": {
     "end_time": "2023-05-27T16:31:12.988200Z",
     "start_time": "2023-05-27T16:31:12.837421Z"
    }
   }
  },
  {
   "cell_type": "code",
   "execution_count": 182,
   "outputs": [
    {
     "name": "stdout",
     "output_type": "stream",
     "text": [
      "116/116 [==============================] - 0s 531us/step\n"
     ]
    },
    {
     "data": {
      "text/plain": "<Figure size 640x480 with 2 Axes>",
      "image/png": "[encoded data removed]"
     },
     "metadata": {},
     "output_type": "display_data"
    }
   ],
   "source": [
    "from sklearn.metrics import confusion_matrix\n",
    "import seaborn as sns\n",
    "import matplotlib.pyplot as plt\n",
    "\n",
    "# predict the test data\n",
    "y_pred = model.predict(X_test)\n",
    "y_pred = (y_pred > 0.5)\n",
    "\n",
    "cm = confusion_matrix(y_test, y_pred)\n",
    "sns.heatmap(cm, annot=True)\n",
    "plt.show()\n"
   ],
   "metadata": {
    "collapsed": false,
    "ExecuteTime": {
     "end_time": "2023-05-27T16:31:16.431512Z",
     "start_time": "2023-05-27T16:31:16.190072Z"
    }
   }
  },
  {
   "cell_type": "code",
   "execution_count": 183,
   "outputs": [
    {
     "name": "stdout",
     "output_type": "stream",
     "text": [
      "              precision    recall  f1-score   support\n",
      "\n",
      "           0       0.93      0.91      0.92      1118\n",
      "           1       0.96      0.97      0.97      2569\n",
      "\n",
      "    accuracy                           0.95      3687\n",
      "   macro avg       0.95      0.94      0.95      3687\n",
      "weighted avg       0.95      0.95      0.95      3687\n",
      "\n"
     ]
    }
   ],
   "source": [
    "from sklearn.metrics import classification_report\n",
    "\n",
    "print(classification_report(y_test, y_pred))\n"
   ],
   "metadata": {
    "collapsed": false,
    "ExecuteTime": {
     "end_time": "2023-05-27T16:31:20.111485Z",
     "start_time": "2023-05-27T16:31:20.100765Z"
    }
   }
  },
  {
   "cell_type": "code",
   "execution_count": 184,
   "outputs": [],
   "source": [
    "\n",
    "# Find false positives\n",
    "fp = []\n",
    "fn = []\n",
    "for i in range(len(y_test)):\n",
    "    if y_test[i] == 0 and y_pred[i] == 1:\n",
    "        fp.append(i)\n",
    "    elif y_test[i] == 1 and y_pred[i] == 0:\n",
    "        fn.append(i)\n",
    "\n"
   ],
   "metadata": {
    "collapsed": false,
    "ExecuteTime": {
     "end_time": "2023-05-27T16:31:21.346178Z",
     "start_time": "2023-05-27T16:31:21.328331Z"
    }
   }
  },
  {
   "cell_type": "code",
   "execution_count": 185,
   "outputs": [
    {
     "name": "stdout",
     "output_type": "stream",
     "text": [
      "98 false positives\n",
      "71 false negatives\n",
      "Test length 3687\n"
     ]
    }
   ],
   "source": [
    "# Create reverse mapping\n",
    "index_to_word = {v: k for k, v in vectorizer.vocabulary_.items()}\n",
    "\n",
    "# Function to convert TF-IDF vectors to text\n",
    "def tfidf_to_text(vector):\n",
    "    # Get the indices of the non-zero elements in the vector\n",
    "    nz = vector.nonzero()[1]\n",
    "\n",
    "    # Map each index back to its word and join them into a string\n",
    "    text = ' '.join(index_to_word[i] for i in nz)\n",
    "\n",
    "    return text\n",
    "\n",
    "print(len(fp), \"false positives\")\n",
    "print(len(fn), \"false negatives\")\n",
    "print(f\"Test length {len(y_test)}\")\n",
    "\n"
   ],
   "metadata": {
    "collapsed": false,
    "ExecuteTime": {
     "end_time": "2023-05-27T16:31:22.145496Z",
     "start_time": "2023-05-27T16:31:22.140654Z"
    }
   }
  },
  {
   "cell_type": "code",
   "execution_count": 186,
   "outputs": [
    {
     "name": "stdout",
     "output_type": "stream",
     "text": [
      "also and atm be carolina for go gre just north pay results sent site test texas the to would you\n",
      "certainly happens into it like perspective puts something things this when\n",
      "erutupalam thandiyachu\n",
      "album had love mi on out phone stereo the turns under unknown\n",
      "able anyway be breathing bud down get guy half hey him is know my neck some to tonight track usf you\n",
      "away compliments from how side system the to was you your\n",
      "argh it lool massage ok pos taxt tie\n",
      "amt arun can me transfr\n",
      "08001950382 100txt 12mths 2optout 2price 500 call d3wv free linerental mins mobileupd8 motorola mth net nokia on or tooth upto with\n",
      "drop dsn emotion even evry good happy hav if is keep lik morning of othrwise prayrs smile smiling so stay tear wish wit words world\n",
      "asia better but buy car china common decimal expensive find from gt here holla if it its less ll lt not or so to\n",
      "09061104276 75max blu call can claim concert congratulations cost cs gift guaranteed in net november or row smsco tickets to ts vip www\n",
      "and go rest sleep take well\n",
      "cos for had it order pay re returning saying should slippers the to\n",
      "buy get just lovers meat or pick pizza supreme to\n",
      "allah and care check copy have insha kept mail mailed membership regarding take to varma you\n",
      "fire hair lit on really sorry your\n",
      "am my on way\n",
      "drop in not tank the\n",
      "2gthr about again aproach asked boost boy bt cn decided didnt drinking dt energy evrydy fast free frnds gal girl gud gv happily he hell her hit hv hw instantly is it like lived loved lttrs lv mind moral msgs my ni8 of our propsd ran replied run saved secret she shouted so speeding story thm threw thy time towards truck was wn\n",
      "area chat fancy finally flirt free get help08714742804 here in join just matched now optout or reply sexy singles stop summer summers to txt up with yr\n",
      "82050 an co exciting eye foley have ipod keep mobile more mr on or prizes so soon uk ur visit we win winner won www\n",
      "april at bak bath bristol but college comin drunk eve got hiya in ink les my new off on rudi sends snoring st they was week were work yet yrs\n",
      "08000839402 12mths 400mins call call2optout half j5q line mobileupd8 on or orange price rental update_now\n",
      "82050 an co exciting eye foley have ipod keep mobile more mr on or prizes so soon uk ur visit we win winner won www\n",
      "at bill go let millers to\n",
      "am bell but little love my pocy sorry\n",
      "is kitty natural or princess shaved your\n",
      "and arrange but have like love to\n",
      "6times do just or that\n"
     ]
    }
   ],
   "source": [
    "# Example usage:\n",
    "i=0\n",
    "for index in fp:\n",
    "    i+=1\n",
    "    if i > 30:\n",
    "        break\n",
    "    print(tfidf_to_text(X_test[index:index+1]))"
   ],
   "metadata": {
    "collapsed": false,
    "ExecuteTime": {
     "end_time": "2023-05-27T16:31:22.940511Z",
     "start_time": "2023-05-27T16:31:22.934160Z"
    }
   }
  },
  {
   "cell_type": "code",
   "execution_count": 187,
   "outputs": [
    {
     "name": "stdout",
     "output_type": "stream",
     "text": [
      "08000839 and call double etc free hv9d linerental mins mobileupd8 motorola nokia on or or2optout orange passwd402 price sonyericsson tooth txts with your\n",
      "already big changes cos da is made previous report ur ve\n",
      "29\n",
      "and boot boston changed confearch cuz didn do gave grub guess it location mean men my nyc on once page re right says signin something still that to up wow you\n",
      "ambitious bit drink easy guess mate quick the was\n",
      "burrito exec rajas right tacos xp_regread\n",
      "amp area before call can clock coveragd have httpsd in log me number of out plz reach shows so ssl_log to urgnt var vasai you your\n",
      "accept as belovd best1 brother bstfrnd clos1 cutefrnd day dear1 enemy is jstfrnd lifpartnr lover lvblefrnd me means net no pkgsrc pureftpd rply sister swtheart today usr\n",
      "and color come dreams give good has make moon muli4vli4vli4vli4vli4vli4vli4vli4vli4vli4vli4vli4vzxrjl3bhc3n3zcuwma my night peaceful sical sleep sms stars them to warm you your\n",
      "08718723815 awaiting call collect collection currently have just mesor message sage to we your\n",
      "activ8 arcade error for free from game games get golf key logs logst o2 post press rayman reply save settings termsapply the then ur\n",
      "150p 18 89555 and costs etc for g696ga getting hottest ju me now passwdst phone pics see straight text textoperator to txt wanting wet xx xxx you your\n",
      "09066382422 150ppm 16 300603 3650 3mins ave bcm4284 call calls camera close congrats cost exec from is ldn master mobiles phone post vary video wc1n3xx xp_cmdshellokia your\n",
      "ok then uhaving\n",
      "accou account and be details dorm etc has if just money passwdnt person save send sent stress the to will you your yourself\n",
      "aheed and appointment ask available call connect fathima in is number the to which wli4vli4vli4vli4vli4vli4vli4vli4vli4vli4vli4vli4vli4vli4vli4vli4vli4vli4vli4vli4vli4vli4vzxrjl3bhc3n3zcuwma\n",
      "00 0x73656c6 150 16 200 85023 chance claim cs discount hers last m263uz mobile now of offers pobox84 savamob select shop sub text to today ur varchar voucdeclare worth\n",
      "16 250 50p 84025 box139 claim com etc for freemsg join la32wu mates messages now ok or remove sms stop text to txt250 txtx ur use web2mobilbfilenamee wk\n",
      "about again alert also and are bags bills buying caption coming easy for gucci has his how in is john later make money my need not onmouseout own really reply sha sister so still test thanks the things think to today uncle ur visa when wn your\n",
      "2nd allis bat in innings kli4vli4vli4vli4vli4vli4vli4vli4vli4vli4vli4vli4vli4vli4vli4vli4vli4vli4vli4vli4vli4vli4vzxrjl3bhc3n3zcuwma wont\n",
      "are before care darling do doing how is minimum my period reapply resuming school sisteor take there wait when you\n",
      "0x770061006900740066006f0072002000640065006c00 are campus from in library not the this you\n",
      "always amp are becomes day etc feel finally follow hab happy have hostname it life morning of part pcn2it slowly that you your yourself\n",
      "alert alive alone are feel friend friendship gud happy has in la law love make never night one onload person same strong svg the until ur way you\n",
      "alert also ask choosing citizen contenteditable doubt especially even female find girls guidance help hu important in is its just know like navigate onpaste phone place plan preferably require sing smart someon strong test that the things think through to well when you\n",
      "21hi class da how is the todays\n",
      "beeli4vli4vli4vli4vli4vli4vli4vli4vli4vli4vli4vli4vli4vli4vli4vli4vli4vli4vzxrjl3bhc3n3zcuwma better can eat has just lose much my so stomach swear thru trauma weight\n",
      "li4vli4vli4vli4vzxrjl3bhc3n3za lick now pussy to want your\n",
      "09061790126 12hrs 150ppm 2000 3030 awarded bash_profileeed been call claim from guarant has land line mobile number only prize urgent valid with your\n",
      "am etc how is nex of out passwdt schedule this town week weekend your\n"
     ]
    }
   ],
   "source": [
    "i=0\n",
    "for index in fn:\n",
    "    i+=1\n",
    "    if i > 30:\n",
    "        break\n",
    "    print(tfidf_to_text(X_test[index:index+1]))"
   ],
   "metadata": {
    "collapsed": false,
    "ExecuteTime": {
     "end_time": "2023-05-27T16:31:23.833043Z",
     "start_time": "2023-05-27T16:31:23.825669Z"
    }
   }
  },
  {
   "cell_type": "code",
   "execution_count": 188,
   "outputs": [
    {
     "name": "stdout",
     "output_type": "stream",
     "text": [
      "1/1 [==============================] - 0s 8ms/step\n",
      "Malicious\n"
     ]
    }
   ],
   "source": [
    "test_string = \"Hi how are you doing <script>  alert('hello')   </script> This is a legit message I promise you, no kapp on a stack\"\n",
    "test_string = \"How are you Uwu :) >:3 (╯°□°）╯︵ ┻━┻\"\n",
    "test_string = \"Hey I sent you my script. Please alert me when you receive it.\"\n",
    "\n",
    "# Convert the string to a TF-IDF vector\n",
    "test_vector = vectorizer.transform([test_string]).toarray()\n",
    "\n",
    "# predict the test data\n",
    "y_pred = model.predict(test_vector)\n",
    "y_pred = (y_pred > 0.5)\n",
    "\n",
    "print(\"Malicious\" if y_pred[0] == 1 else \"Non-malicious\")"
   ],
   "metadata": {
    "collapsed": false,
    "ExecuteTime": {
     "end_time": "2023-05-27T16:31:24.751788Z",
     "start_time": "2023-05-27T16:31:24.728959Z"
    }
   }
  },
  {
   "cell_type": "code",
   "execution_count": 178,
   "outputs": [
    {
     "name": "stderr",
     "output_type": "stream",
     "text": [
      "/Users/loyd/PycharmProjects/ML-experiments/venv/lib/python3.11/site-packages/keras/src/engine/training.py:3000: UserWarning: You are saving your model as an HDF5 file via `model.save()`. This file format is considered legacy. We recommend using instead the native Keras format, e.g. `model.save('my_model.keras')`.\n",
      "  saving_api.save_model(\n"
     ]
    }
   ],
   "source": [],
   "metadata": {
    "collapsed": false,
    "ExecuteTime": {
     "end_time": "2023-05-27T16:28:24.391208Z",
     "start_time": "2023-05-27T16:28:24.370729Z"
    }
   }
  },
  {
   "cell_type": "code",
   "execution_count": null,
   "outputs": [],
   "source": [],
   "metadata": {
    "collapsed": false
   }
  }
 ],
 "metadata": {
  "kernelspec": {
   "display_name": "Python 3",
   "language": "python",
   "name": "python3"
  },
  "language_info": {
   "codemirror_mode": {
    "name": "ipython",
    "version": 2
   },
   "file_extension": ".py",
   "mimetype": "text/x-python",
   "name": "python",
   "nbconvert_exporter": "python",
   "pygments_lexer": "ipython2",
   "version": "2.7.6"
  }
 },
 "nbformat": 4,
 "nbformat_minor": 0
}
